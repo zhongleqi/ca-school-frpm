{
 "cells": [
  {
   "cell_type": "markdown",
   "id": "55304e99-cb80-4c47-acd9-8ace170457c2",
   "metadata": {},
   "source": [
    "# Final Project"
   ]
  },
  {
   "cell_type": "markdown",
   "id": "fe4ce23e-d515-4eec-808a-af8c54151743",
   "metadata": {},
   "source": [
    "Leqi Zhong"
   ]
  },
  {
   "cell_type": "markdown",
   "id": "336b13c2-6f3d-4103-8060-5d0f53736e23",
   "metadata": {},
   "source": [
    "November 6, 2022"
   ]
  },
  {
   "cell_type": "markdown",
   "id": "83ef3818-5c53-4b72-b86c-245b3f645e92",
   "metadata": {},
   "source": [
    "## About the dataset"
   ]
  },
  {
   "cell_type": "markdown",
   "id": "5cd2d94a-176b-41af-b05a-cce2082eefb6",
   "metadata": {},
   "source": [
    "For the final project, I’d like to explore the Oakland Unified School District Database. Specifically, I’ll look into the fiscal dataset, enrollment rates and demand rates. There have been news about Oakland School’s disclosure and financial crises, and debates about whether reduction in staffing and utility costs offset by student attendance, as well as cutting which kind of budget. So I think it’s interesting to learn into school’s expenditure and revenue, figuring out what’s the connection between cutting budget and student enrollment, and how does that affect parents choosing schools for their kids."
   ]
  },
  {
   "cell_type": "markdown",
   "id": "4aa9d712-bfeb-4991-93d3-e01efbd71aef",
   "metadata": {},
   "source": [
    "## Data source"
   ]
  },
  {
   "cell_type": "markdown",
   "id": "1e0cb2e2-5ecf-43f8-931a-6988e4e4854b",
   "metadata": {},
   "source": [
    "Oakland Unified School District"
   ]
  },
  {
   "cell_type": "markdown",
   "id": "e5a7c750-7337-46dd-ac6b-10ee7af7a839",
   "metadata": {},
   "source": [
    "Recent years: https://www.ousddata.org/public-dashboards.html"
   ]
  },
  {
   "cell_type": "markdown",
   "id": "04758e6c-6389-4ec2-8f10-3e880ce5598d",
   "metadata": {},
   "source": [
    "More years: http://www.ed-data.org/district/Alameda/Oakland-Unified"
   ]
  },
  {
   "cell_type": "markdown",
   "id": "44e020cd-29c6-4e7a-aa7a-4edcb28af32f",
   "metadata": {},
   "source": [
    "## Time period"
   ]
  },
  {
   "cell_type": "markdown",
   "id": "2b44fd83-87d6-4e2f-976d-47220908ac9f",
   "metadata": {},
   "source": [
    "2009-2021"
   ]
  },
  {
   "cell_type": "markdown",
   "id": "35cd24e1-9815-4d33-9b30-29f8b2345569",
   "metadata": {},
   "source": [
    "## What can data tell me"
   ]
  },
  {
   "cell_type": "markdown",
   "id": "45a03dbc-8988-4cde-8cf6-0d101f9cb8bd",
   "metadata": {},
   "source": [
    "Student attendance, free and reduced-price meals (household income), fund sources, revenue, expenditure."
   ]
  },
  {
   "cell_type": "markdown",
   "id": "8099e908-fc59-4588-bd5f-611caa06463e",
   "metadata": {},
   "source": [
    "## Flaws in the dataset"
   ]
  },
  {
   "cell_type": "markdown",
   "id": "b49397d5-35b4-4d92-9f86-4d49cf049e02",
   "metadata": {},
   "source": [
    "1. There is no data on school closures, though we can analyze the schools' funds and the year-to-year changes in the number of schools. It would be better if we can cross-check the connection between school’s funding and potential closures."
   ]
  },
  {
   "cell_type": "markdown",
   "id": "b2514ed2-3eef-41a7-9ca9-07ff16102d7e",
   "metadata": {},
   "source": [
    "2.  Private schools’ data are incomplete. I think the analysis would be more comprehensive/persuasive if private schools are included."
   ]
  },
  {
   "cell_type": "code",
   "execution_count": null,
   "id": "de1f8555-139c-4898-82bd-a47cc1449acf",
   "metadata": {},
   "outputs": [],
   "source": []
  }
 ],
 "metadata": {
  "kernelspec": {
   "display_name": "Python 3 (ipykernel)",
   "language": "python",
   "name": "python3"
  },
  "language_info": {
   "codemirror_mode": {
    "name": "ipython",
    "version": 3
   },
   "file_extension": ".py",
   "mimetype": "text/x-python",
   "name": "python",
   "nbconvert_exporter": "python",
   "pygments_lexer": "ipython3",
   "version": "3.9.15"
  }
 },
 "nbformat": 4,
 "nbformat_minor": 5
}
